{
 "cells": [
  {
   "cell_type": "markdown",
   "metadata": {},
   "source": [
    "# KATAS MODULO 2"
   ]
  },
  {
   "cell_type": "markdown",
   "metadata": {},
   "source": [
    "## Prueba 1\n",
    "\n",
    "Ejecuta el comando para activar el entorno virtual: source env/bin/activate"
   ]
  },
  {
   "cell_type": "markdown",
   "metadata": {},
   "source": [
    "![](./img/Modulo2Activateenv.png)"
   ]
  },
  {
   "cell_type": "markdown",
   "metadata": {},
   "source": [
    "## Mostrar blibliotecas instaladas\n",
    "\n",
    "ejecutamos el comando ```pip freeze``` si lo ejecutamos desde terminal \n",
    "\n",
    "si usamos un notebook usamos el comando ```!pip freeze```"
   ]
  },
  {
   "cell_type": "code",
   "execution_count": null,
   "metadata": {},
   "outputs": [],
   "source": [
    "!pip freeze"
   ]
  },
  {
   "cell_type": "markdown",
   "metadata": {},
   "source": [
    "nos muestra algo como esto\n",
    "\n",
    "![](./img/Modulo2freeze.png)"
   ]
  },
  {
   "cell_type": "markdown",
   "metadata": {},
   "source": [
    "## Desactivar el entorno virtual env\n",
    "\n",
    "para desactivar el env usamos el comando ```deactivate```\n",
    "\n",
    "y nos da este resultado en la terminal\n",
    "\n",
    "![](./img/Modulo2deactivateEnv.png)"
   ]
  }
 ],
 "metadata": {
  "interpreter": {
   "hash": "39f8df2846a2119d5d29c341a66905ea99d14eecccac6f9fcaa6936ed8e9dbaf"
  },
  "kernelspec": {
   "display_name": "Python 3.10.2 ('env': venv)",
   "language": "python",
   "name": "python3"
  },
  "language_info": {
   "codemirror_mode": {
    "name": "ipython",
    "version": 3
   },
   "file_extension": ".py",
   "mimetype": "text/x-python",
   "name": "python",
   "nbconvert_exporter": "python",
   "pygments_lexer": "ipython3",
   "version": "3.10.2"
  },
  "orig_nbformat": 4
 },
 "nbformat": 4,
 "nbformat_minor": 2
}
