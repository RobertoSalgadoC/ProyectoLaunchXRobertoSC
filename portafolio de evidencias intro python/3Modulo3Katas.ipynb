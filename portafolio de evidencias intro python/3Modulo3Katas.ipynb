{
 "cells": [
  {
   "cell_type": "markdown",
   "metadata": {},
   "source": [
    "# Pruebas Modulo 3\n"
   ]
  },
  {
   "cell_type": "markdown",
   "metadata": {},
   "source": [
    "## Practica 1"
   ]
  },
  {
   "cell_type": "code",
   "execution_count": 7,
   "metadata": {},
   "outputs": [
    {
     "name": "stdout",
     "output_type": "stream",
     "text": [
      "100\n"
     ]
    }
   ],
   "source": [
    "a = 97\n",
    "b = 67\n",
    "\n",
    "if a<b:\n",
    "    print(b)"
   ]
  },
  {
   "cell_type": "markdown",
   "metadata": {},
   "source": [
    "conclusion en este caso la condicion ```if``` no se cumplia por lo tanto no se ejecutaba el codigo"
   ]
  },
  {
   "cell_type": "markdown",
   "metadata": {},
   "source": [
    "## Practica 2"
   ]
  },
  {
   "cell_type": "code",
   "execution_count": 10,
   "metadata": {},
   "outputs": [
    {
     "name": "stdout",
     "output_type": "stream",
     "text": [
      "93\n"
     ]
    }
   ],
   "source": [
    "a = 93\n",
    "b = 27\n",
    "\n",
    "if a >= b:\n",
    "    print(a)"
   ]
  },
  {
   "cell_type": "markdown",
   "metadata": {},
   "source": [
    "conclusion en este caso se cumpli una de las dos condiciones, ya que a es mayor que b pero no es igual y por lo tanto se ejecuto el codigo"
   ]
  },
  {
   "cell_type": "markdown",
   "metadata": {},
   "source": [
    "## Practica 3"
   ]
  },
  {
   "cell_type": "code",
   "execution_count": 11,
   "metadata": {},
   "outputs": [],
   "source": [
    "a = 24\n",
    "b = 44\n",
    "\n",
    "if a <= 0:\n",
    "    print(a) \n",
    "    print(b)"
   ]
  },
  {
   "cell_type": "markdown",
   "metadata": {},
   "source": [
    "conlcusion: no se cumple la condición"
   ]
  },
  {
   "cell_type": "code",
   "execution_count": null,
   "metadata": {},
   "outputs": [],
   "source": [
    "a = 16\n",
    "b = 25 \n",
    "c = 27\n",
    "\n",
    "if a > b:\n",
    "    if b > c:\n",
    "        print(\"a es mayor que b y b es mayor que c\")\n",
    "    else:\n",
    "        print(\"a es mayor que b y menor que c\")\n",
    "elif a==b:\n",
    "    print(\"a es igual que b\")\n",
    "else:\n",
    "    print(\"a es menor que b\")"
   ]
  },
  {
   "cell_type": "markdown",
   "metadata": {},
   "source": [
    "# KATAS MODULO 3"
   ]
  },
  {
   "cell_type": "markdown",
   "metadata": {},
   "source": [
    "## Alerta de detección de asteroides"
   ]
  },
  {
   "cell_type": "code",
   "execution_count": 1,
   "metadata": {},
   "outputs": [
    {
     "name": "stdout",
     "output_type": "stream",
     "text": [
      "puedes ver un rayo de luz en el cielo\n"
     ]
    }
   ],
   "source": [
    "vel = int(input(\"Ingresa la velocidad actual del asterroide\"))\n",
    "rayoLuz = 20\n",
    "alert = 25\n",
    "\n",
    "\n",
    "if vel < rayoLuz:\n",
    "    print(\"no hay novedad, seguiras respirando c:\")\n",
    "elif vel >= rayoLuz and vel<=24:\n",
    "    print(\"puedes ver un rayo de luz en el cielo\")\n",
    "else:\n",
    "    print(\"!!!!!ALERTAAAA, SE ACERCA EL FIN DEL MUNDO¡¡¡¡¡¡¡¡¡¡¡¡\")"
   ]
  },
  {
   "cell_type": "markdown",
   "metadata": {},
   "source": [
    "## Alerta de detección de asteroides enhanced edition"
   ]
  },
  {
   "cell_type": "code",
   "execution_count": 30,
   "metadata": {},
   "outputs": [
    {
     "name": "stdout",
     "output_type": "stream",
     "text": [
      "puedes ver un rayo de luz en el cielo\n"
     ]
    }
   ],
   "source": [
    "vel = int(input(\"Ingresa la velocidad actual del asterroide\"))\n",
    "size = int(input(\"Ingresa el tamaño del asteroide\"))\n",
    "rayoLuz = 20\n",
    "alert = 25\n",
    "\n",
    "\n",
    "if vel < rayoLuz and size < 25:\n",
    "    print(\"no hay novedad, seguiras respirando C:\")\n",
    "elif vel >= rayoLuz and vel<=24 and size < 25:\n",
    "    print(\"puedes ver un rasho de luz en el cielo\")\n",
    "else:\n",
    "    print(\"!!!!!ALERTAAAA, SE ACERCA EL FIN DEL MUNDO¡¡¡¡¡¡¡¡¡¡¡¡\")"
   ]
  }
 ],
 "metadata": {
  "interpreter": {
   "hash": "39f8df2846a2119d5d29c341a66905ea99d14eecccac6f9fcaa6936ed8e9dbaf"
  },
  "kernelspec": {
   "display_name": "Python 3.10.2 ('env': venv)",
   "language": "python",
   "name": "python3"
  },
  "language_info": {
   "codemirror_mode": {
    "name": "ipython",
    "version": 3
   },
   "file_extension": ".py",
   "mimetype": "text/x-python",
   "name": "python",
   "nbconvert_exporter": "python",
   "pygments_lexer": "ipython3",
   "version": "3.10.2"
  },
  "orig_nbformat": 4
 },
 "nbformat": 4,
 "nbformat_minor": 2
}
